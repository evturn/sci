{
 "cells": [
  {
   "cell_type": "markdown",
   "metadata": {},
   "source": [
    "<h1 style=\"color: #3a3a3a; font-size: 42px; font-style: italic; text-align: center;\">Selection</h1>"
   ]
  },
  {
   "cell_type": "markdown",
   "metadata": {},
   "source": [
    "> A selection algorithm chooses the `k`-th smallest of a list of numbers\n",
    "#### [1. Quickselect](#Quickselect)"
   ]
  },
  {
   "cell_type": "markdown",
   "metadata": {},
   "source": [
    "<h2 style=\"color: #444444;\">Quickselect</h2>\n",
    "\n",
    "<hr>\n",
    "\n",
    "![Quickselect](./visualizations/quickselect.png)"
   ]
  },
  {
   "cell_type": "code",
   "execution_count": 2,
   "metadata": {},
   "outputs": [],
   "source": [
    "# %load quickselect.py\n",
    "from random import randint\n",
    "\n",
    "def partition(arr, left, right, pivotIdx):\n",
    "    pivotVal = arr[pivotIdx]\n",
    "    arr[pivotIdx], arr[right] = arr[right], arr[pivotIdx]\n",
    "    currIdx = left\n",
    "\n",
    "    for i in range(left, right):\n",
    "        x = arr[i]\n",
    "        if x < pivotVal:\n",
    "            arr[currIdx], arr[i] = arr[i], arr[currIdx]\n",
    "            currIdx += 1\n",
    "\n",
    "    arr[right], arr[currIdx] = arr[currIdx], arr[right]\n",
    "    return currIdx\n",
    "\n",
    "def quickselect(arr, left, right, k):\n",
    "    if left == right:\n",
    "        return arr[left]\n",
    "\n",
    "    idx = randint(left, right)\n",
    "    pivotIdx = partition(arr, left, right, idx)\n",
    "\n",
    "    if k == pivotIdx:\n",
    "        return arr[k]\n",
    "    elif k < pivotIdx:\n",
    "        return quickselect(arr, left, pivotIdx - 1, k)\n",
    "    else:\n",
    "        return quickselect(arr, pivotIdx + 1, right, k)\n"
   ]
  },
  {
   "cell_type": "code",
   "execution_count": 3,
   "metadata": {},
   "outputs": [
    {
     "data": {
      "text/plain": [
       "54"
      ]
     },
     "execution_count": 3,
     "metadata": {},
     "output_type": "execute_result"
    }
   ],
   "source": [
    "arr = [82, 12, 71, 56, 54, 97, 49]\n",
    "k = 2\n",
    "quickselect(arr, 0, len(arr) - 1, k)"
   ]
  }
 ],
 "metadata": {
  "kernelspec": {
   "display_name": "Python 3",
   "language": "python",
   "name": "python3"
  },
  "language_info": {
   "codemirror_mode": {
    "name": "ipython",
    "version": 3
   },
   "file_extension": ".py",
   "mimetype": "text/x-python",
   "name": "python",
   "nbconvert_exporter": "python",
   "pygments_lexer": "ipython3",
   "version": "3.6.5"
  },
  "varInspector": {
   "cols": {
    "lenName": 16,
    "lenType": 16,
    "lenVar": 40
   },
   "kernels_config": {
    "python": {
     "delete_cmd_postfix": "",
     "delete_cmd_prefix": "del ",
     "library": "var_list.py",
     "varRefreshCmd": "print(var_dic_list())"
    },
    "r": {
     "delete_cmd_postfix": ") ",
     "delete_cmd_prefix": "rm(",
     "library": "var_list.r",
     "varRefreshCmd": "cat(var_dic_list()) "
    }
   },
   "types_to_exclude": [
    "module",
    "function",
    "builtin_function_or_method",
    "instance",
    "_Feature"
   ],
   "window_display": false
  }
 },
 "nbformat": 4,
 "nbformat_minor": 2
}
