{
 "cells": [
  {
   "cell_type": "markdown",
   "metadata": {},
   "source": [
    "<h1 style=\"color: #3a3a3a; font-size: 42px; font-style: italic; text-align: center;\">Trees</h1>"
   ]
  },
  {
   "cell_type": "markdown",
   "metadata": {},
   "source": [
    "#### [1. Lowest common ancestor](#Lowest-common-ancestor)\n",
    "#### [2. Tree height](#Tree-height)"
   ]
  },
  {
   "cell_type": "markdown",
   "metadata": {},
   "source": [
    "<h2 style=\"color: #444444;\">Binary Search Tree</h2>\n",
    "\n",
    "<hr>"
   ]
  },
  {
   "cell_type": "code",
   "execution_count": 33,
   "metadata": {},
   "outputs": [],
   "source": [
    "# %load ./bst.py\n",
    "class Node:\n",
    "    def __init__(self, data): \n",
    "        self.data = data\n",
    "        self.left = None\n",
    "        self.right = None\n",
    "        self.level = None\n",
    "\n",
    "    def __str__(self):\n",
    "        return str(self.data)\n",
    "\n",
    "class BinarySearchTree:\n",
    "    def __init__(self):\n",
    "        self.root = None\n",
    "\n",
    "    def __call__(self, vals):\n",
    "        for i in range(len(vals)):\n",
    "            self.create(vals[i])\n",
    "\n",
    "        return self\n",
    "\n",
    "    def create(self, val):\n",
    "        if self.root == None:\n",
    "            self.root = Node(val)\n",
    "        else:\n",
    "            current = self.root\n",
    "         \n",
    "            while True:\n",
    "                if val < current.data:\n",
    "                    if current.left:\n",
    "                        current = current.left\n",
    "                    else:\n",
    "                        current.left = Node(val)\n",
    "                        break\n",
    "                elif val > current.data:\n",
    "                    if current.right:\n",
    "                        current = current.right\n",
    "                    else:\n",
    "                        current.right = Node(val)\n",
    "                        break\n",
    "                else:\n",
    "                    break\n"
   ]
  },
  {
   "cell_type": "markdown",
   "metadata": {},
   "source": [
    "<h2 style=\"color: #444444;\">Lowest common ancestor</h2>\n",
    "\n",
    "<hr>\n",
    "\n",
    "![Lowest common ancestor](./visualizations/lowest-common-ancestor.png)"
   ]
  },
  {
   "cell_type": "code",
   "execution_count": 45,
   "metadata": {},
   "outputs": [],
   "source": [
    "# %load ./lowest_common_ancestor.py\n",
    "def ancestors(root, val):\n",
    "    if root == None:\n",
    "        return None\n",
    "    if root.data == val:\n",
    "        return [val]\n",
    "\n",
    "    leftVals = ancestors(root.left, val)\n",
    "    if leftVals != None:\n",
    "        return [root.data] + leftVals\n",
    "\n",
    "    rightVals = ancestors(root.right, val)\n",
    "    if rightVals != None:\n",
    "        return [root.data] + rightVals\n",
    "\n",
    "    return None\n",
    "\n",
    "def lowest_common_ancestor(root, x, y):\n",
    "    l = ancestors(root, x)\n",
    "    r = ancestors(root, y)\n",
    "    lca = None\n",
    "\n",
    "    for i in range(min(len(l), len(r))):\n",
    "        if r[i] == l[i]:\n",
    "            lca = l[i]\n",
    "        else:\n",
    "            break\n",
    "\n",
    "    return lca\n"
   ]
  },
  {
   "cell_type": "code",
   "execution_count": 46,
   "metadata": {},
   "outputs": [
    {
     "data": {
      "text/plain": [
       "11"
      ]
     },
     "execution_count": 46,
     "metadata": {},
     "output_type": "execute_result"
    }
   ],
   "source": [
    "arr = [8, 6, 5, 7, 11, 12, 13, 10, 9]\n",
    "tree = BinarySearchTree()\n",
    "tree(arr)\n",
    "\n",
    "lowest_common_ancestor(tree.root, 9, 12)"
   ]
  },
  {
   "cell_type": "markdown",
   "metadata": {},
   "source": [
    "<h2 style=\"color: #444444;\">Tree height</h2>\n",
    "\n",
    "<hr>"
   ]
  },
  {
   "cell_type": "code",
   "execution_count": 49,
   "metadata": {},
   "outputs": [],
   "source": [
    "# %load ./max_height.py\n",
    "def max_height(root):\n",
    "    if root:\n",
    "        return 1 + max(max_height(root.left), max_height(root.right))\n",
    "    else:\n",
    "        return -1\n"
   ]
  },
  {
   "cell_type": "code",
   "execution_count": 50,
   "metadata": {},
   "outputs": [
    {
     "data": {
      "text/plain": [
       "3"
      ]
     },
     "execution_count": 50,
     "metadata": {},
     "output_type": "execute_result"
    }
   ],
   "source": [
    "arr = [3, 5, 2, 1, 4, 6, 7]\n",
    "tree = BinarySearchTree()\n",
    "tree(arr)\n",
    "\n",
    "max_height(tree.root)"
   ]
  }
 ],
 "metadata": {
  "kernelspec": {
   "display_name": "Python 3",
   "language": "python",
   "name": "python3"
  },
  "language_info": {
   "codemirror_mode": {
    "name": "ipython",
    "version": 3
   },
   "file_extension": ".py",
   "mimetype": "text/x-python",
   "name": "python",
   "nbconvert_exporter": "python",
   "pygments_lexer": "ipython3",
   "version": "3.6.5"
  },
  "varInspector": {
   "cols": {
    "lenName": 16,
    "lenType": 16,
    "lenVar": 40
   },
   "kernels_config": {
    "python": {
     "delete_cmd_postfix": "",
     "delete_cmd_prefix": "del ",
     "library": "var_list.py",
     "varRefreshCmd": "print(var_dic_list())"
    },
    "r": {
     "delete_cmd_postfix": ") ",
     "delete_cmd_prefix": "rm(",
     "library": "var_list.r",
     "varRefreshCmd": "cat(var_dic_list()) "
    }
   },
   "types_to_exclude": [
    "module",
    "function",
    "builtin_function_or_method",
    "instance",
    "_Feature"
   ],
   "window_display": false
  }
 },
 "nbformat": 4,
 "nbformat_minor": 2
}
