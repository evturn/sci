{
 "cells": [
  {
   "cell_type": "markdown",
   "metadata": {},
   "source": [
    "<h1 style=\"color: #3a3a3a; font-size: 42px; font-style: italic; text-align: center;\">Sorting</h1>"
   ]
  },
  {
   "cell_type": "markdown",
   "metadata": {},
   "source": [
    "#### [1. Insertion sort](#Insertion-sort)\n",
    "#### [2. Quick sort](#Quick-sort)\n",
    "#### [3. Merge sort](#Merge-sort)\n",
    "#### [4. Bubble sort](#Bubble-sort)\n",
    "#### [5. Counting sort](#Counting-sort)\n",
    "#### [6. Selection sort](#Selection-sort)\n",
    "#### [7. Heap sort](#Heap-sort)"
   ]
  },
  {
   "cell_type": "markdown",
   "metadata": {},
   "source": [
    "<h2 style=\"color: #444444;\">Insertion sort</h2>\n",
    "\n",
    "<hr>\n",
    "\n",
    "![Insertion sort](./visualizations/insertion-sort.gif)"
   ]
  },
  {
   "cell_type": "code",
   "execution_count": null,
   "metadata": {},
   "outputs": [],
   "source": [
    "# %load insertion_sort.py\n",
    "def insertion_sort(arr):\n",
    "    for i in range(1, len(arr)):\n",
    "        j = i - 1\n",
    "        key = arr[i]\n",
    "        \n",
    "        while (j >= 0) and (arr[j] > key):\n",
    "           arr[j + 1] = arr[j]\n",
    "           j -= 1\n",
    "\n",
    "        arr[j + 1] = key\n",
    "        \n",
    "    return arr\n"
   ]
  },
  {
   "cell_type": "code",
   "execution_count": 37,
   "metadata": {},
   "outputs": [
    {
     "data": {
      "text/plain": [
       "[12, 49, 54, 56, 71, 82, 97]"
      ]
     },
     "execution_count": 37,
     "metadata": {},
     "output_type": "execute_result"
    }
   ],
   "source": [
    "arr = [82, 12, 71, 56, 54, 97, 49]\n",
    "\n",
    "insertion_sort(arr)"
   ]
  },
  {
   "cell_type": "markdown",
   "metadata": {},
   "source": [
    "<h2 style=\"color: #444444;\">Quick sort</h2>\n",
    "\n",
    "<hr>\n",
    "\n",
    "![Quick sort](./visualizations/quick-sort.gif)"
   ]
  },
  {
   "cell_type": "code",
   "execution_count": 34,
   "metadata": {},
   "outputs": [],
   "source": [
    "# %load quick_sort.py\n",
    "def quick_sort(arr, lo, hi):\n",
    "    pivot = arr[hi]\n",
    "    p = lo\n",
    "\n",
    "    if lo < hi:\n",
    "        for i in range(lo, hi):\n",
    "            if arr[i] < pivot:\n",
    "                arr[p], arr[i] = arr[i], arr[p]\n",
    "                p += 1\n",
    "\n",
    "        arr[p], arr[hi] = arr[hi], arr[p]\n",
    "        quick_sort(arr, lo, p - 1)\n",
    "        quick_sort(arr, p + 1, hi)\n",
    "\n",
    "    return arr\n"
   ]
  },
  {
   "cell_type": "code",
   "execution_count": 35,
   "metadata": {},
   "outputs": [
    {
     "data": {
      "text/plain": [
       "[12, 49, 54, 56, 71, 82, 97]"
      ]
     },
     "execution_count": 35,
     "metadata": {},
     "output_type": "execute_result"
    }
   ],
   "source": [
    "arr = [82, 12, 71, 56, 54, 97, 49]\n",
    "\n",
    "quick_sort(arr, 0, len(arr) - 1)"
   ]
  },
  {
   "cell_type": "markdown",
   "metadata": {},
   "source": [
    "<h2 style=\"color: #444444;\">Merge sort</h2>\n",
    "\n",
    "<hr>\n",
    "\n",
    "![Merge sort](./visualizations/merge-sort.gif)"
   ]
  },
  {
   "cell_type": "code",
   "execution_count": null,
   "metadata": {},
   "outputs": [],
   "source": [
    "# %load merge_sort.py\n",
    "def merge_sort(arr):\n",
    "    l = len(arr)\n",
    "\n",
    "    if l <= 1:\n",
    "        return arr\n",
    "\n",
    "    mid = l // 2\n",
    "    left = merge_sort(arr[0:mid])\n",
    "    right = merge_sort(arr[mid:])\n",
    "\n",
    "    return merge(left, right)\n",
    "\n",
    "def merge(left, right, res=[]):\n",
    "    while len(left) > 0 and len(right) > 0:\n",
    "        l = left[0] \n",
    "        r = right[0]\n",
    "        if l <= r:\n",
    "            res.append(l)\n",
    "            left = left[1:]\n",
    "        else:\n",
    "            res.append(r)\n",
    "            right = right[1:]\n",
    "\n",
    "    return res + left + right\n"
   ]
  },
  {
   "cell_type": "code",
   "execution_count": 45,
   "metadata": {},
   "outputs": [
    {
     "data": {
      "text/plain": [
       "[12, 49, 54, 56, 71, 82, 97]"
      ]
     },
     "execution_count": 45,
     "metadata": {},
     "output_type": "execute_result"
    }
   ],
   "source": [
    "arr = [82, 12, 71, 56, 54, 97, 49]\n",
    "\n",
    "merge_sort(arr)"
   ]
  },
  {
   "cell_type": "markdown",
   "metadata": {},
   "source": [
    "<h2 style=\"color: #444444;\">Bubble sort</h2>\n",
    "\n",
    "<hr>\n",
    "\n",
    "![Bubble sort](./visualizations/bubble-sort.gif)"
   ]
  },
  {
   "cell_type": "code",
   "execution_count": 56,
   "metadata": {},
   "outputs": [],
   "source": [
    "# %load bubble_sort.py\n",
    "def bubble_sort(arr, swaps=0):\n",
    "    for i, x in enumerate(arr):\n",
    "        if i < len(arr) - 1:\n",
    "            if arr[i + 1] < x:\n",
    "                arr[i], arr[i + 1] = arr[i + 1], arr[i]\n",
    "                swaps += 1\n",
    "\n",
    "    return arr if swaps == 0 else bubble_sort(arr) \n"
   ]
  },
  {
   "cell_type": "code",
   "execution_count": 58,
   "metadata": {},
   "outputs": [
    {
     "data": {
      "text/plain": [
       "[12, 49, 54, 56, 71, 82, 97]"
      ]
     },
     "execution_count": 58,
     "metadata": {},
     "output_type": "execute_result"
    }
   ],
   "source": [
    "arr = [82, 12, 71, 56, 54, 97, 49]\n",
    "\n",
    "bubble_sort(arr)"
   ]
  },
  {
   "cell_type": "markdown",
   "metadata": {},
   "source": [
    "<h2 style=\"color: #444444;\">Counting sort</h2>\n",
    "\n",
    "<hr>\n",
    "\n",
    "![Counting sort](./visualizations/counting-sort.gif)"
   ]
  },
  {
   "cell_type": "code",
   "execution_count": 128,
   "metadata": {},
   "outputs": [],
   "source": [
    "# %load counting_sort.py\n",
    "def counting_sort(arr):\n",
    "    hi = max(arr)\n",
    "    lo = min(arr)\n",
    "    size = hi - lo + 1\n",
    "    count = [0] * size\n",
    "\n",
    "    for x in arr:\n",
    "        count[x - lo] += 1\n",
    "\n",
    "    return [i + lo for i in range(size) \n",
    "                   for _ in range(count[i])]\n"
   ]
  },
  {
   "cell_type": "code",
   "execution_count": 130,
   "metadata": {},
   "outputs": [
    {
     "data": {
      "text/plain": [
       "[12, 49, 54, 56, 71, 82, 97]"
      ]
     },
     "execution_count": 130,
     "metadata": {},
     "output_type": "execute_result"
    }
   ],
   "source": [
    "arr = [82, 12, 71, 56, 54, 97, 49]\n",
    "\n",
    "counting_sort(arr)"
   ]
  },
  {
   "cell_type": "markdown",
   "metadata": {},
   "source": [
    "<h2 style=\"color: #444444\">Selection sort</h2>\n",
    "\n",
    "<hr>\n",
    "\n",
    "![Selection sort](./visualizations/selection-sort.gif)"
   ]
  },
  {
   "cell_type": "code",
   "execution_count": 8,
   "metadata": {},
   "outputs": [],
   "source": [
    "# %load selection_sort.py\n",
    "def selection_sort(arr):\n",
    "    indices = range(len(arr))\n",
    "\n",
    "    for i in indices:\n",
    "        minIdx = i\n",
    "\n",
    "        for ii in indices[i + 1:]:\n",
    "            if arr[ii] < arr[minIdx]:\n",
    "                minIdx = ii\n",
    "\n",
    "        if minIdx != i:\n",
    "            arr[i], arr[minIdx] = arr[minIdx], arr[i]\n",
    "\n",
    "    return arr\n"
   ]
  },
  {
   "cell_type": "code",
   "execution_count": 9,
   "metadata": {},
   "outputs": [
    {
     "data": {
      "text/plain": [
       "[12, 49, 54, 56, 71, 82, 97]"
      ]
     },
     "execution_count": 9,
     "metadata": {},
     "output_type": "execute_result"
    }
   ],
   "source": [
    "arr = [82, 12, 71, 56, 54, 97, 49]\n",
    "\n",
    "selection_sort(arr)"
   ]
  },
  {
   "cell_type": "markdown",
   "metadata": {},
   "source": [
    "<h2 style=\"color: #444444\">Heap sort</h2>\n",
    "\n",
    "<hr>\n",
    "\n",
    "![Heap sort](./visualizations/heap-sort.gif)"
   ]
  },
  {
   "cell_type": "code",
   "execution_count": 20,
   "metadata": {},
   "outputs": [],
   "source": [
    "# %load ./heap_sort.py\n",
    "def heapify(arr, i, count):\n",
    "    hi = i\n",
    "    l = 2 * i + 1\n",
    "    r = 2 * i + 2\n",
    "\n",
    "    if l < count and arr[i] < arr[l]:\n",
    "        hi = l\n",
    "\n",
    "    if r < count and arr[hi] < arr[r]:\n",
    "        hi = r\n",
    "\n",
    "    if hi != i:\n",
    "        arr[i], arr[hi] = arr[hi], arr[i]\n",
    "        heapify(arr, hi, count)\n",
    "\n",
    "def heap_sort(arr):\n",
    "    count = len(arr)\n",
    "\n",
    "    for i in range(count, -1, -1):\n",
    "        heapify(arr, i, count)\n",
    "\n",
    "    for i in range(count - 1, 0, -1):\n",
    "        arr[i], arr[0] = arr[0], arr[i]\n",
    "        heapify(arr, 0, i)\n",
    "\n",
    "    return arr\n"
   ]
  },
  {
   "cell_type": "code",
   "execution_count": 21,
   "metadata": {},
   "outputs": [
    {
     "data": {
      "text/plain": [
       "[12, 49, 54, 56, 71, 82, 97]"
      ]
     },
     "execution_count": 21,
     "metadata": {},
     "output_type": "execute_result"
    }
   ],
   "source": [
    "arr = [82, 12, 71, 56, 54, 97, 49]\n",
    "\n",
    "heap_sort(arr)"
   ]
  }
 ],
 "metadata": {
  "celltoolbar": "Raw Cell Format",
  "kernelspec": {
   "display_name": "Python 3",
   "language": "python",
   "name": "python3"
  },
  "language_info": {
   "codemirror_mode": {
    "name": "ipython",
    "version": 3
   },
   "file_extension": ".py",
   "mimetype": "text/x-python",
   "name": "python",
   "nbconvert_exporter": "python",
   "pygments_lexer": "ipython3",
   "version": "3.6.5"
  },
  "varInspector": {
   "cols": {
    "lenName": 16,
    "lenType": 16,
    "lenVar": 40
   },
   "kernels_config": {
    "python": {
     "delete_cmd_postfix": "",
     "delete_cmd_prefix": "del ",
     "library": "var_list.py",
     "varRefreshCmd": "print(var_dic_list())"
    },
    "r": {
     "delete_cmd_postfix": ") ",
     "delete_cmd_prefix": "rm(",
     "library": "var_list.r",
     "varRefreshCmd": "cat(var_dic_list()) "
    }
   },
   "types_to_exclude": [
    "module",
    "function",
    "builtin_function_or_method",
    "instance",
    "_Feature"
   ],
   "window_display": false
  }
 },
 "nbformat": 4,
 "nbformat_minor": 2
}
